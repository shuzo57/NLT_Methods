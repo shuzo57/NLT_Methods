{
 "cells": [
  {
   "cell_type": "code",
   "execution_count": 26,
   "metadata": {},
   "outputs": [
    {
     "name": "stdout",
     "output_type": "stream",
     "text": [
      "Using device: cuda\n"
     ]
    }
   ],
   "source": [
    "import torch\n",
    "from torch.optim import Adam\n",
    "\n",
    "device = torch.device(\"cuda\" if torch.cuda.is_available() else \"cpu\")\n",
    "print(f\"Using device: {device}\")\n",
    "\n",
    "import cv2\n",
    "import numpy as np\n",
    "import json"
   ]
  },
  {
   "cell_type": "code",
   "execution_count": 27,
   "metadata": {},
   "outputs": [],
   "source": [
    "with open(\"./data/calibration_data.json\", \"r\") as f:\n",
    "    calib_data = json.load(f)\n",
    "\n",
    "with open(\"./data/coordinates_data.json\", \"r\") as f:\n",
    "    coord_data = json.load(f)\n",
    "\n",
    "mtx = torch.tensor(calib_data[\"mtx\"], dtype=torch.float32)\n",
    "dist = torch.tensor(calib_data[\"dist\"], dtype=torch.float32)\n",
    "objpoints = torch.tensor(coord_data[\"objpoints\"], dtype=torch.float32)\n",
    "imgpoints = torch.tensor(coord_data[\"imgpoints\"], dtype=torch.float32)\n",
    "rvecs = torch.tensor(calib_data[\"rvecs\"], dtype=torch.float32)\n",
    "tvecs = torch.tensor(calib_data[\"tvecs\"], dtype=torch.float32)"
   ]
  },
  {
   "cell_type": "code",
   "execution_count": 28,
   "metadata": {},
   "outputs": [],
   "source": [
    "def reprojection_error(rvecs, tvecs, objpoints, imgpoints, mtx, dist):\n",
    "    total_error = 0\n",
    "    for i in range(len(objpoints)):\n",
    "        imgpoints2, _ = cv2.projectPoints(objpoints[i].detach().numpy(), rvecs[i].detach().numpy(), tvecs[i].detach().numpy(), mtx.detach().numpy(), dist.detach().numpy())\n",
    "        imgpoints2 = torch.tensor(imgpoints2, dtype=torch.float32).reshape(-1, 2)\n",
    "        error = torch.sum((imgpoints[i] - imgpoints2) ** 2)\n",
    "        total_error += error\n",
    "    total_error.requires_grad_(True)\n",
    "    return total_error"
   ]
  },
  {
   "cell_type": "code",
   "execution_count": 31,
   "metadata": {},
   "outputs": [],
   "source": [
    "params = torch.cat((rvecs.flatten(), tvecs.flatten()), dim=0)\n",
    "params.requires_grad_(True)\n",
    "\n",
    "epochs = 100\n",
    "learning_rate = 1e-2\n",
    "\n",
    "optimizer = Adam([params], lr=learning_rate, weight_decay=1e-3)"
   ]
  },
  {
   "cell_type": "code",
   "execution_count": 32,
   "metadata": {},
   "outputs": [
    {
     "name": "stdout",
     "output_type": "stream",
     "text": [
      "Epoch 0: Reprojection Error = 206186217472.0\n",
      "Epoch 1: Reprojection Error = 206186217472.0\n",
      "Epoch 2: Reprojection Error = 206186217472.0\n",
      "Epoch 3: Reprojection Error = 206186217472.0\n",
      "Epoch 4: Reprojection Error = 206186217472.0\n",
      "Epoch 5: Reprojection Error = 206186217472.0\n",
      "Epoch 6: Reprojection Error = 206186217472.0\n",
      "Epoch 7: Reprojection Error = 206186217472.0\n"
     ]
    },
    {
     "name": "stdout",
     "output_type": "stream",
     "text": [
      "Epoch 8: Reprojection Error = 206186217472.0\n",
      "Epoch 9: Reprojection Error = 206186217472.0\n",
      "Epoch 10: Reprojection Error = 206186217472.0\n",
      "Epoch 11: Reprojection Error = 206186217472.0\n",
      "Epoch 12: Reprojection Error = 206186217472.0\n",
      "Epoch 13: Reprojection Error = 206186217472.0\n",
      "Epoch 14: Reprojection Error = 206186217472.0\n",
      "Epoch 15: Reprojection Error = 206186217472.0\n",
      "Epoch 16: Reprojection Error = 206186217472.0\n",
      "Epoch 17: Reprojection Error = 206186217472.0\n",
      "Epoch 18: Reprojection Error = 206186217472.0\n",
      "Epoch 19: Reprojection Error = 206186217472.0\n",
      "Epoch 20: Reprojection Error = 206186217472.0\n",
      "Epoch 21: Reprojection Error = 206186217472.0\n",
      "Epoch 22: Reprojection Error = 206186217472.0\n",
      "Epoch 23: Reprojection Error = 206186217472.0\n",
      "Epoch 24: Reprojection Error = 206186217472.0\n",
      "Epoch 25: Reprojection Error = 206186217472.0\n",
      "Epoch 26: Reprojection Error = 206186217472.0\n",
      "Epoch 27: Reprojection Error = 206186217472.0\n",
      "Epoch 28: Reprojection Error = 206186217472.0\n",
      "Epoch 29: Reprojection Error = 206186217472.0\n",
      "Epoch 30: Reprojection Error = 206186217472.0\n",
      "Epoch 31: Reprojection Error = 206186217472.0\n",
      "Epoch 32: Reprojection Error = 206186217472.0\n",
      "Epoch 33: Reprojection Error = 206186217472.0\n",
      "Epoch 34: Reprojection Error = 206186217472.0\n",
      "Epoch 35: Reprojection Error = 206186217472.0\n",
      "Epoch 36: Reprojection Error = 206186217472.0\n",
      "Epoch 37: Reprojection Error = 206186217472.0\n",
      "Epoch 38: Reprojection Error = 206186217472.0\n",
      "Epoch 39: Reprojection Error = 206186217472.0\n",
      "Epoch 40: Reprojection Error = 206186217472.0\n",
      "Epoch 41: Reprojection Error = 206186217472.0\n",
      "Epoch 42: Reprojection Error = 206186217472.0\n",
      "Epoch 43: Reprojection Error = 206186217472.0\n",
      "Epoch 44: Reprojection Error = 206186217472.0\n",
      "Epoch 45: Reprojection Error = 206186217472.0\n",
      "Epoch 46: Reprojection Error = 206186217472.0\n",
      "Epoch 47: Reprojection Error = 206186217472.0\n",
      "Epoch 48: Reprojection Error = 206186217472.0\n",
      "Epoch 49: Reprojection Error = 206186217472.0\n",
      "Epoch 50: Reprojection Error = 206186217472.0\n",
      "Epoch 51: Reprojection Error = 206186217472.0\n",
      "Epoch 52: Reprojection Error = 206186217472.0\n",
      "Epoch 53: Reprojection Error = 206186217472.0\n",
      "Epoch 54: Reprojection Error = 206186217472.0\n",
      "Epoch 55: Reprojection Error = 206186217472.0\n",
      "Epoch 56: Reprojection Error = 206186217472.0\n",
      "Epoch 57: Reprojection Error = 206186217472.0\n",
      "Epoch 58: Reprojection Error = 206186217472.0\n",
      "Epoch 59: Reprojection Error = 206186217472.0\n",
      "Epoch 60: Reprojection Error = 206186217472.0\n",
      "Epoch 61: Reprojection Error = 206186217472.0\n",
      "Epoch 62: Reprojection Error = 206186217472.0\n",
      "Epoch 63: Reprojection Error = 206186217472.0\n",
      "Epoch 64: Reprojection Error = 206186217472.0\n",
      "Epoch 65: Reprojection Error = 206186217472.0\n",
      "Epoch 66: Reprojection Error = 206186217472.0\n",
      "Epoch 67: Reprojection Error = 206186217472.0\n",
      "Epoch 68: Reprojection Error = 206186217472.0\n",
      "Epoch 69: Reprojection Error = 206186217472.0\n",
      "Epoch 70: Reprojection Error = 206186217472.0\n",
      "Epoch 71: Reprojection Error = 206186217472.0\n",
      "Epoch 72: Reprojection Error = 206186217472.0\n",
      "Epoch 73: Reprojection Error = 206186217472.0\n",
      "Epoch 74: Reprojection Error = 206186217472.0\n",
      "Epoch 75: Reprojection Error = 206186217472.0\n",
      "Epoch 76: Reprojection Error = 206186217472.0\n",
      "Epoch 77: Reprojection Error = 206186217472.0\n",
      "Epoch 78: Reprojection Error = 206186217472.0\n",
      "Epoch 79: Reprojection Error = 206186217472.0\n",
      "Epoch 80: Reprojection Error = 206186217472.0\n",
      "Epoch 81: Reprojection Error = 206186217472.0\n",
      "Epoch 82: Reprojection Error = 206186217472.0\n",
      "Epoch 83: Reprojection Error = 206186217472.0\n",
      "Epoch 84: Reprojection Error = 206186217472.0\n",
      "Epoch 85: Reprojection Error = 206186217472.0\n",
      "Epoch 86: Reprojection Error = 206186217472.0\n",
      "Epoch 87: Reprojection Error = 206186217472.0\n",
      "Epoch 88: Reprojection Error = 206186217472.0\n",
      "Epoch 89: Reprojection Error = 206186217472.0\n",
      "Epoch 90: Reprojection Error = 206186217472.0\n",
      "Epoch 91: Reprojection Error = 206186217472.0\n",
      "Epoch 92: Reprojection Error = 206186217472.0\n",
      "Epoch 93: Reprojection Error = 206186217472.0\n",
      "Epoch 94: Reprojection Error = 206186217472.0\n",
      "Epoch 95: Reprojection Error = 206186217472.0\n",
      "Epoch 96: Reprojection Error = 206186217472.0\n",
      "Epoch 97: Reprojection Error = 206186217472.0\n",
      "Epoch 98: Reprojection Error = 206186217472.0\n",
      "Epoch 99: Reprojection Error = 206186217472.0\n"
     ]
    }
   ],
   "source": [
    "for e in range(epochs):\n",
    "    optimizer.zero_grad()\n",
    "    error = reprojection_error(\n",
    "        params[:len(rvecs)*3].reshape(len(rvecs), 3), \n",
    "        params[len(rvecs)*3:].reshape(len(tvecs), 3),\n",
    "        objpoints, imgpoints, mtx, dist\n",
    "        )\n",
    "    error.backward()\n",
    "    optimizer.step()\n",
    "    print(f\"Epoch {e}: Reprojection Error = {error.item()}\")"
   ]
  },
  {
   "cell_type": "code",
   "execution_count": null,
   "metadata": {},
   "outputs": [],
   "source": []
  }
 ],
 "metadata": {
  "kernelspec": {
   "display_name": ".venv",
   "language": "python",
   "name": "python3"
  },
  "language_info": {
   "codemirror_mode": {
    "name": "ipython",
    "version": 3
   },
   "file_extension": ".py",
   "mimetype": "text/x-python",
   "name": "python",
   "nbconvert_exporter": "python",
   "pygments_lexer": "ipython3",
   "version": "3.9.19"
  }
 },
 "nbformat": 4,
 "nbformat_minor": 2
}
