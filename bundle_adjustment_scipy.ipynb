{
 "cells": [
  {
   "cell_type": "code",
   "execution_count": 11,
   "metadata": {},
   "outputs": [],
   "source": [
    "import numpy as np\n",
    "import cv2\n",
    "import json\n",
    "from scipy.optimize import least_squares"
   ]
  },
  {
   "cell_type": "code",
   "execution_count": 12,
   "metadata": {},
   "outputs": [],
   "source": [
    "calib_path = \"./data/calibration_data.json\"\n",
    "\n",
    "with open(calib_path, \"r\") as f:\n",
    "    calib_data = json.load(f)\n",
    "\n",
    "mtx = np.array(calib_data[\"mtx\"])\n",
    "dist = np.array(calib_data[\"dist\"])\n",
    "rvecs = np.array(calib_data[\"rvecs\"])\n",
    "tvecs = np.array(calib_data[\"tvecs\"])"
   ]
  },
  {
   "cell_type": "code",
   "execution_count": 13,
   "metadata": {},
   "outputs": [],
   "source": [
    "coord_path = \"./data/coordinates_data.json\"\n",
    "\n",
    "with open(coord_path, \"r\") as f:\n",
    "    coord_data = json.load(f)\n",
    "\n",
    "objpoints = np.array(coord_data[\"objpoints\"])\n",
    "imgpoints = np.array(coord_data[\"imgpoints\"])"
   ]
  },
  {
   "cell_type": "code",
   "execution_count": 14,
   "metadata": {},
   "outputs": [],
   "source": [
    "def reprojection_error(params, objpoints, imgpoints, mtx, dist):\n",
    "    n = len(objpoints)\n",
    "    rvecs, tvecs = params[:n*3].reshape((n, 3)), params[n*3:].reshape((n, 3))\n",
    "\n",
    "    # total_error = 0\n",
    "    # for i in range(n):\n",
    "    #     imgpoints2, _ = cv2.projectPoints(objpoints[i], rvecs[i], tvecs[i], mtx, dist)\n",
    "    #     error = np.sum((imgpoints[i] - imgpoints2.reshape(-1, 2))**2)\n",
    "    #     total_error += error\n",
    "\n",
    "    mean_error = 0\n",
    "    for i in range(len(objpoints)):\n",
    "        imgpoints2, _ = cv2.projectPoints(objpoints[i], rvecs[i], tvecs[i], mtx, dist)\n",
    "        error = cv2.norm(imgpoints[i], imgpoints2, cv2.NORM_L2) / len(imgpoints2)\n",
    "        mean_error += error\n",
    "    total_error = mean_error / len(objpoints)\n",
    "\n",
    "    return total_error"
   ]
  },
  {
   "cell_type": "code",
   "execution_count": 16,
   "metadata": {},
   "outputs": [
    {
     "name": "stdout",
     "output_type": "stream",
     "text": [
      "   Iteration     Total nfev        Cost      Cost reduction    Step norm     Optimality   \n",
      "       0              1         2.2401e-01                                    1.58e-05    \n",
      "       1             16         2.2401e-01      0.00e+00       0.00e+00       1.58e-05    \n",
      "`xtol` termination condition is satisfied.\n",
      "Function evaluations 16, initial cost 2.2401e-01, final cost 2.2401e-01, first-order optimality 1.58e-05.\n",
      "reprojection error: 0.224\n"
     ]
    }
   ],
   "source": [
    "initial_params = np.hstack((rvecs.ravel(), tvecs.ravel()))\n",
    "result = least_squares(reprojection_error, initial_params, args=(objpoints, imgpoints, mtx, dist), verbose=2)\n",
    "\n",
    "optimized_params = result.x\n",
    "print(f\"reprojection error: {result.cost:.3f}\")\n",
    "rvecs, tvecs = optimized_params[:len(objpoints)*3].reshape((len(objpoints), 3)), optimized_params[len(objpoints)*3:].reshape((len(objpoints), 3))\n",
    "# print(\"rvecs:\", rvecs)\n",
    "# print(\"tvecs:\", tvecs)"
   ]
  },
  {
   "cell_type": "code",
   "execution_count": null,
   "metadata": {},
   "outputs": [],
   "source": []
  }
 ],
 "metadata": {
  "kernelspec": {
   "display_name": ".venv",
   "language": "python",
   "name": "python3"
  },
  "language_info": {
   "codemirror_mode": {
    "name": "ipython",
    "version": 3
   },
   "file_extension": ".py",
   "mimetype": "text/x-python",
   "name": "python",
   "nbconvert_exporter": "python",
   "pygments_lexer": "ipython3",
   "version": "3.9.19"
  }
 },
 "nbformat": 4,
 "nbformat_minor": 2
}
