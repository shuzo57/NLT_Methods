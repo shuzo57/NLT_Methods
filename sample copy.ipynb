{
 "cells": [
  {
   "cell_type": "code",
   "execution_count": 95,
   "metadata": {},
   "outputs": [],
   "source": [
    "import os\n",
    "import cv2\n",
    "import numpy as np\n",
    "from typing import Tuple, Dict, Union\n",
    "from extensions import IMAGE_EXTENSIONS"
   ]
  },
  {
   "cell_type": "code",
   "execution_count": 96,
   "metadata": {},
   "outputs": [],
   "source": [
    "def read_bal_data(\n",
    "    image_dir: str,\n",
    "    pattern_size: Tuple[int, int] = (10, 7),\n",
    "    result_dir: str = None,\n",
    "    ) -> Dict[str, Union[float, int]]:\n",
    "    \n",
    "    if result_dir is not None and not os.path.exists(result_dir):\n",
    "        os.makedirs(result_dir, exist_ok=True)\n",
    "\n",
    "    criteria = (cv2.TERM_CRITERIA_EPS + cv2.TERM_CRITERIA_MAX_ITER, 30, 0.001)\n",
    "\n",
    "    objp = np.zeros((pattern_size[0] * pattern_size[1], 3), np.float32)\n",
    "    objp[:, :2] = np.mgrid[0:pattern_size[0], 0:pattern_size[1]].T.reshape(-1, 2)\n",
    "\n",
    "    objpoints = []\n",
    "    imgpoints = []\n",
    "    calibrated_cnt = 0\n",
    "    h, w = None, None\n",
    "\n",
    "    for file in os.listdir(image_dir):\n",
    "        ex = file.split('.')[-1]\n",
    "        if ex not in IMAGE_EXTENSIONS:\n",
    "            continue\n",
    "        print(f'\\rProcessing: {calibrated_cnt}', end='')\n",
    "\n",
    "        img_path = os.path.join(image_dir, file)\n",
    "        img = cv2.imread(img_path)\n",
    "        if img is None:\n",
    "            continue\n",
    "        if h is None or w is None:\n",
    "            h, w = img.shape[:2]\n",
    "\n",
    "        gray = cv2.cvtColor(img, cv2.COLOR_BGR2GRAY)\n",
    "        \n",
    "        # チェスボードからコーナーを検出\n",
    "        ret, corners = cv2.findChessboardCorners(gray, pattern_size, None)\n",
    "        \n",
    "        if not ret:\n",
    "            continue\n",
    "\n",
    "        objpoints.append(objp)\n",
    "        corners = cv2.cornerSubPix(gray, corners, (11, 11), (-1, -1), criteria)\n",
    "        imgpoints.append(corners)\n",
    "\n",
    "        if result_dir is not None:\n",
    "            cv2.drawChessboardCorners(img, pattern_size, corners, ret)\n",
    "            save_path = os.path.join(result_dir, f'calib_{file}.jpg')\n",
    "            cv2.imwrite(save_path, img)\n",
    "        calibrated_cnt += 1\n",
    "\n",
    "    if len(objpoints) == 0 or len(imgpoints) == 0:\n",
    "        raise ValueError('No calibration data found')\n",
    "\n",
    "    ret, camera_matrix, dist_coeffs, rvecs, tvecs = cv2.calibrateCamera(objpoints, imgpoints, (w, h), None, None)\n",
    "    \n",
    "    return np.array(camera_matrix), np.array(dist_coeffs), np.array(rvecs), np.array(tvecs), np.array(objpoints[0]), np.array(imgpoints)"
   ]
  },
  {
   "cell_type": "code",
   "execution_count": 97,
   "metadata": {},
   "outputs": [
    {
     "name": "stdout",
     "output_type": "stream",
     "text": [
      "Processing: 32"
     ]
    }
   ],
   "source": [
    "image_dir = \"img\"\n",
    "camera_matrix, distortion_coefficients, rotation_vectors, translation_vectors, points_3d, points_2d  = read_bal_data(image_dir, result_dir='data/calib_result')"
   ]
  },
  {
   "cell_type": "code",
   "execution_count": 98,
   "metadata": {},
   "outputs": [],
   "source": [
    "# 焦点距離の取得（焦点距離はx方向とy方向が同じと仮定）\n",
    "focal_length_x = camera_matrix[0, 0]\n",
    "focal_length_y = camera_matrix[1, 1]\n",
    "focal_length = (focal_length_x + focal_length_y) / 2\n",
    "\n",
    "#2つの歪み係数の取得\n",
    "distortion_coefficients = distortion_coefficients[0, :2]"
   ]
  },
  {
   "cell_type": "code",
   "execution_count": 99,
   "metadata": {},
   "outputs": [
    {
     "ename": "ValueError",
     "evalue": "could not broadcast input array from shape (3,1) into shape (3,)",
     "output_type": "error",
     "traceback": [
      "\u001b[0;31m---------------------------------------------------------------------------\u001b[0m",
      "\u001b[0;31mValueError\u001b[0m                                Traceback (most recent call last)",
      "Cell \u001b[0;32mIn[99], line 6\u001b[0m\n\u001b[1;32m      4\u001b[0m \u001b[38;5;66;03m# 各カメラのパラメータを配列に格納\u001b[39;00m\n\u001b[1;32m      5\u001b[0m \u001b[38;5;28;01mfor\u001b[39;00m i \u001b[38;5;129;01min\u001b[39;00m \u001b[38;5;28mrange\u001b[39m(\u001b[38;5;28mlen\u001b[39m(rotation_vectors)):\n\u001b[0;32m----> 6\u001b[0m     \u001b[43mcam\u001b[49m\u001b[43m[\u001b[49m\u001b[43mi\u001b[49m\u001b[43m,\u001b[49m\u001b[43m \u001b[49m\u001b[38;5;241;43m0\u001b[39;49m\u001b[43m,\u001b[49m\u001b[43m \u001b[49m\u001b[43m:\u001b[49m\u001b[38;5;241;43m3\u001b[39;49m\u001b[43m]\u001b[49m \u001b[38;5;241m=\u001b[39m rotation_vectors[i]  \u001b[38;5;66;03m# 回転行列の最初の行\u001b[39;00m\n\u001b[1;32m      7\u001b[0m     cam[i, \u001b[38;5;241m1\u001b[39m, :\u001b[38;5;241m3\u001b[39m] \u001b[38;5;241m=\u001b[39m translation_vectors[i]  \u001b[38;5;66;03m# 並行移動ベクトル\u001b[39;00m\n\u001b[1;32m      8\u001b[0m     cam[i, \u001b[38;5;241m2\u001b[39m, \u001b[38;5;241m0\u001b[39m] \u001b[38;5;241m=\u001b[39m focal_length  \u001b[38;5;66;03m# 焦点距離\u001b[39;00m\n",
      "\u001b[0;31mValueError\u001b[0m: could not broadcast input array from shape (3,1) into shape (3,)"
     ]
    }
   ],
   "source": [
    "# カメラパラメータ配列の初期化\n",
    "cam = np.zeros((len(rotation_vectors), 3, 3))\n",
    "\n",
    "# 各カメラのパラメータを配列に格納\n",
    "for i in range(len(rotation_vectors)):\n",
    "    cam[i, 0, :3] = rotation_vectors[i]  # 回転行列の最初の行\n",
    "    cam[i, 1, :3] = translation_vectors[i]  # 並行移動ベクトル\n",
    "    cam[i, 2, 0] = focal_length  # 焦点距離\n",
    "    cam[i, 2, 1:3] = distortion_coefficients  # 歪みパラメータ"
   ]
  },
  {
   "cell_type": "code",
   "execution_count": null,
   "metadata": {},
   "outputs": [],
   "source": [
    "# reshape\n",
    "camera_params = cam.reshape(len(rotation_vectors), 9)\n",
    "camera_indices = np.repeat(np.arange(33),70)\n",
    "point_indices = np.repeat(np.arange(33),70)\n",
    "points_2d = points_2d.reshape(2310, 2)"
   ]
  },
  {
   "cell_type": "code",
   "execution_count": null,
   "metadata": {},
   "outputs": [
    {
     "name": "stdout",
     "output_type": "stream",
     "text": [
      "n_cameras: 33\n",
      "n_points: 70\n",
      "Total number of parameters: 507\n",
      "Total number of residuals: 4620\n"
     ]
    }
   ],
   "source": [
    "n_cameras = camera_params.shape[0]\n",
    "n_points = points_3d.shape[0]\n",
    "\n",
    "n = 9 * n_cameras + 3 * n_points\n",
    "m = 2 * points_2d.shape[0]"
   ]
  },
  {
   "cell_type": "code",
   "execution_count": null,
   "metadata": {},
   "outputs": [],
   "source": [
    "def rotate(points, rot_vecs):\n",
    "    \"\"\"Rotate points by given rotation vectors.\n",
    "    \n",
    "    Rodrigues' rotation formula is used.\n",
    "    \"\"\"\n",
    "    theta = np.linalg.norm(rot_vecs, axis=1)[:, np.newaxis]\n",
    "    with np.errstate(invalid='ignore'):\n",
    "        v = rot_vecs / theta\n",
    "        v = np.nan_to_num(v)\n",
    "    dot = np.sum(points * v, axis=1)[:, np.newaxis]\n",
    "    cos_theta = np.cos(theta)\n",
    "    sin_theta = np.sin(theta)\n",
    "\n",
    "    return cos_theta * points + sin_theta * np.cross(v, points) + dot * (1 - cos_theta) * v"
   ]
  },
  {
   "cell_type": "code",
   "execution_count": null,
   "metadata": {},
   "outputs": [],
   "source": [
    "def project(points, camera_params):\n",
    "    \"\"\"Convert 3-D points to 2-D by projecting onto images.\"\"\"\n",
    "\n",
    "    points_proj = rotate(points, camera_params[:, :3])\n",
    "    points_proj += camera_params[:, 3:6]\n",
    "    points_proj = -points_proj[:, :2] / points_proj[:, 2, np.newaxis]\n",
    "    f = camera_params[:, 6]\n",
    "    k1 = camera_params[:, 7]\n",
    "    k2 = camera_params[:, 8]\n",
    "    n = np.sum(points_proj**2, axis=1)\n",
    "    r = 1 + k1 * n + k2 * n**2\n",
    "    points_proj *= (r * f)[:, np.newaxis]\n",
    "    return points_proj"
   ]
  },
  {
   "cell_type": "code",
   "execution_count": null,
   "metadata": {},
   "outputs": [],
   "source": [
    "def fun(params, n_cameras, n_points, camera_indices, point_indices, points_2d):\n",
    "    \"\"\"Compute residuals.\n",
    "    \n",
    "    `params` contains camera parameters and 3-D coordinates.\n",
    "    \"\"\"\n",
    "    camera_params = params[:n_cameras * 9].reshape((n_cameras, 9))    \n",
    "    points_3d = params[n_cameras * 9:].reshape((n_points, 3))\n",
    "    points_proj = project(points_3d[point_indices], camera_params[camera_indices])\n",
    "    return (points_proj - points_2d).ravel()"
   ]
  },
  {
   "cell_type": "code",
   "execution_count": null,
   "metadata": {},
   "outputs": [],
   "source": [
    "from scipy.sparse import lil_matrix\n",
    "\n",
    "def bundle_adjustment_sparsity(n_cameras, n_points, camera_indices, point_indices):\n",
    "    m = camera_indices.size * 2\n",
    "    n = n_cameras * 9 + n_points * 3\n",
    "    A = lil_matrix((m, n), dtype=int)\n",
    "\n",
    "    i = np.arange(camera_indices.size)\n",
    "    for s in range(9):\n",
    "        A[2 * i, camera_indices * 9 + s] = 1\n",
    "        A[2 * i + 1, camera_indices * 9 + s] = 1\n",
    "\n",
    "    for s in range(3):\n",
    "        A[2 * i, n_cameras * 9 + point_indices * 3 + s] = 1\n",
    "        A[2 * i + 1, n_cameras * 9 + point_indices * 3 + s] = 1\n",
    "\n",
    "    return A"
   ]
  },
  {
   "cell_type": "code",
   "execution_count": null,
   "metadata": {},
   "outputs": [
    {
     "name": "stdout",
     "output_type": "stream",
     "text": [
      "(507,)\n"
     ]
    },
    {
     "data": {
      "text/plain": [
       "[<matplotlib.lines.Line2D at 0x171e8ff50>]"
      ]
     },
     "execution_count": 78,
     "metadata": {},
     "output_type": "execute_result"
    },
    {
     "data": {
      "image/png": "[encoded data removed]",
      "text/plain": [
       "<Figure size 640x480 with 1 Axes>"
      ]
     },
     "metadata": {},
     "output_type": "display_data"
    }
   ],
   "source": [
    "%matplotlib inline\n",
    "import matplotlib.pyplot as plt\n",
    "x0 = np.hstack((camera_params.ravel(), points_3d.ravel()))\n",
    "f0 = fun(x0, n_cameras, n_points, camera_indices, point_indices, points_2d)\n",
    "plt.plot(f0)"
   ]
  },
  {
   "cell_type": "code",
   "execution_count": null,
   "metadata": {},
   "outputs": [],
   "source": [
    "A = bundle_adjustment_sparsity(n_cameras, n_points, camera_indices, point_indices)"
   ]
  },
  {
   "cell_type": "code",
   "execution_count": null,
   "metadata": {},
   "outputs": [
    {
     "name": "stdout",
     "output_type": "stream",
     "text": [
      "   Iteration     Total nfev        Cost      Cost reduction    Step norm     Optimality   \n",
      "       0              1         8.0799e+09                                    2.32e+08    \n",
      "       1              4         6.9354e+09      1.14e+09       1.30e+04       2.91e+08    \n",
      "       2              5         5.1340e+09      1.80e+09       4.99e+03       4.28e+08    \n",
      "       3              6         4.4370e+09      6.97e+08       2.19e+04       8.63e+09    \n",
      "       4              7         2.4820e+09      1.96e+09       1.95e+03       2.50e+09    \n",
      "       5              9         1.9148e+09      5.67e+08       1.86e+03       1.48e+09    \n",
      "       6             10         1.2951e+09      6.20e+08       5.16e+03       4.80e+08    \n",
      "       7             11         9.6518e+08      3.30e+08       8.54e+02       3.64e+08    \n",
      "       8             12         7.6553e+08      2.00e+08       2.90e+03       3.91e+07    \n",
      "       9             13         7.3662e+08      2.89e+07       6.53e+02       1.27e+07    \n",
      "      10             14         7.3640e+08      2.15e+05       4.51e+01       1.54e+05    \n",
      "      11             15         7.3640e+08      2.80e+01       3.37e-01       2.98e+03    \n",
      "`ftol` termination condition is satisfied.\n",
      "Function evaluations 15, initial cost 8.0799e+09, final cost 7.3640e+08, first-order optimality 2.98e+03.\n"
     ]
    }
   ],
   "source": [
    "import time\n",
    "from scipy.optimize import least_squares\n",
    "\n",
    "t0 = time.time()\n",
    "res = least_squares(fun, x0, jac_sparsity=A, verbose=2, x_scale='jac', ftol=1e-4, method='trf',\n",
    "                    args=(n_cameras, n_points, camera_indices, point_indices, points_2d))\n",
    "t1 = time.time()"
   ]
  },
  {
   "cell_type": "code",
   "execution_count": null,
   "metadata": {},
   "outputs": [
    {
     "data": {
      "text/plain": [
       "[<matplotlib.lines.Line2D at 0x17785b4a0>]"
      ]
     },
     "execution_count": 84,
     "metadata": {},
     "output_type": "execute_result"
    },
    {
     "data": {
      "image/png": "[encoded data removed]",
      "text/plain": [
       "<Figure size 640x480 with 1 Axes>"
      ]
     },
     "metadata": {},
     "output_type": "display_data"
    }
   ],
   "source": [
    "plt.plot(res.fun)"
   ]
  },
  {
   "cell_type": "code",
   "execution_count": null,
   "metadata": {},
   "outputs": [
    {
     "data": {
      "text/plain": [
       "array([ 2.72764384e-01, -8.93669170e-01, -1.14712106e+00, -5.25133482e+00,\n",
       "       -2.39320222e+00,  3.15948264e+01,  8.80652510e+03,  6.88741868e+00,\n",
       "        3.03635847e+02])"
      ]
     },
     "execution_count": 89,
     "metadata": {},
     "output_type": "execute_result"
    }
   ],
   "source": [
    "res.x[:33*9].reshape(33, 9)[0]"
   ]
  }
 ],
 "metadata": {
  "kernelspec": {
   "display_name": ".venv",
   "language": "python",
   "name": "python3"
  },
  "language_info": {
   "codemirror_mode": {
    "name": "ipython",
    "version": 3
   },
   "file_extension": ".py",
   "mimetype": "text/x-python",
   "name": "python",
   "nbconvert_exporter": "python",
   "pygments_lexer": "ipython3",
   "version": "3.12.2"
  }
 },
 "nbformat": 4,
 "nbformat_minor": 2
}
